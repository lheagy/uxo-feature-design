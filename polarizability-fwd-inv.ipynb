{
 "cells": [
  {
   "cell_type": "code",
   "execution_count": 1,
   "id": "9968128d-f33b-4ba0-8a75-2acfe682c27b",
   "metadata": {},
   "outputs": [],
   "source": [
    "import geoana\n",
    "import numpy as np\n",
    "from matplotlib import pyplot as plt\n",
    "from pymatsolver import Pardiso as Solver\n",
    "from scipy.constants import mu_0\n",
    "from scipy import sparse as sp\n",
    "import warnings\n",
    "\n",
    "import discretize\n",
    "from discretize.utils import mkvc, ndgrid, sdiag\n",
    "from SimPEG import maps\n",
    "from SimPEG.survey import BaseSrc, BaseSurvey, BaseRx\n",
    "from SimPEG.simulation import BaseSimulation\n",
    "from SimPEG.potential_fields import magnetics\n",
    "import SimPEG as simpeg"
   ]
  },
  {
   "cell_type": "code",
   "execution_count": 2,
   "id": "fc8d8b10-44b5-469f-8848-769eed59eb8b",
   "metadata": {},
   "outputs": [],
   "source": [
    "dx = 10\n",
    "nc = 5\n",
    "npad = 0\n",
    "pf = 1.3\n",
    "hx = [(dx, npad, -pf), (dx, nc), (dx, npad, pf)]\n",
    "hy = [(dx, npad, -pf), (dx, nc+1), (dx, npad, pf)]\n",
    "mesh = discretize.TensorMesh([hx, hy], origin=\"CC\")"
   ]
  },
  {
   "cell_type": "code",
   "execution_count": 3,
   "id": "7e6761ed-1447-426d-9ac0-1eaf57caadbd",
   "metadata": {},
   "outputs": [
    {
     "name": "stderr",
     "output_type": "stream",
     "text": [
      "/Users/lindseyjh/git/simpeg/discretize/discretize/utils/code_utils.py:217: FutureWarning: TensorMesh.plotGrid has been deprecated, please use TensorMesh.plot_grid. It will be removed in version 1.0.0 of discretize.\n",
      "  warnings.warn(\n"
     ]
    },
    {
     "data": {
      "text/plain": [
       "<AxesSubplot:xlabel='x1', ylabel='x2'>"
      ]
     },
     "execution_count": 3,
     "metadata": {},
     "output_type": "execute_result"
    },
    {
     "data": {
      "image/png": "[encoded data removed]",
      "text/plain": [
       "<Figure size 432x288 with 1 Axes>"
      ]
     },
     "metadata": {
      "needs_background": "light"
     },
     "output_type": "display_data"
    }
   ],
   "source": [
    "mesh.plotGrid()"
   ]
  },
  {
   "cell_type": "code",
   "execution_count": 4,
   "id": "47fbb1c8-69f4-4435-bd3e-51b0e370b9d5",
   "metadata": {},
   "outputs": [],
   "source": [
    "tmp = np.array([[1, 2, 3], [4, 5, 6]])[0, :]"
   ]
  },
  {
   "cell_type": "code",
   "execution_count": 5,
   "id": "185d0094-844e-4c93-8a69-cf6dda76ab6d",
   "metadata": {},
   "outputs": [],
   "source": [
    "# define the source\n",
    "class MagneticControlledSource(BaseSrc):\n",
    "    \n",
    "    def __init__(self, receiver_list=None, location=None, current=1):\n",
    "        super().__init__()\n",
    "        self._receiver_list = receiver_list\n",
    "        self._current = current\n",
    "        if location.shape[1] != 3: \n",
    "            raise ValueError(\n",
    "                f\"The location must be (npoints, 3), but the input shape is {location.shape}\"\n",
    "            )\n",
    "            if not np.allclose(location[0, :], location[-1, :]):\n",
    "                warnings.warn(\"This is not a closed loop\")\n",
    "            \n",
    "        self._location=location\n",
    "    \n",
    "    @property\n",
    "    def current(self):\n",
    "        return self._current\n",
    "    \n",
    "    @property\n",
    "    def location(self):\n",
    "        return self._location\n",
    "\n",
    "    @property\n",
    "    def receiver_list(self):\n",
    "        return self._receiver_list\n",
    "    \n",
    "    def eval(self, locations): \n",
    "        if getattr(self, \"_line_current_source\", None) is None: \n",
    "            self._line_current_source = geoana.em.static.LineCurrentFreeSpace(nodes=self.location, current=self.current)\n",
    "        \n",
    "        # if same as last time, don't re-evaluate\n",
    "        if getattr(self, \"_eval_locations\", None) is not None:\n",
    "            if np.allclose(self._eval_locations, locations): \n",
    "                return self._magnetic_flux_density\n",
    "        \n",
    "        self._eval_locations = locations\n",
    "        self._magnetic_flux_density = mkvc(self._line_current_source.magnetic_flux_density(locations))\n",
    "                \n",
    "        return self._magnetic_flux_density\n",
    "        "
   ]
  },
  {
   "cell_type": "code",
   "execution_count": 6,
   "id": "d6737afa-15af-4c14-a46e-6abd60624f9b",
   "metadata": {},
   "outputs": [],
   "source": [
    "class MulticomponentMagneticFluxDensity:\n",
    "    def __init__(self, locations, components): \n",
    "        if locations.shape[1] != 3: \n",
    "            raise ValueError(\n",
    "                f\"The location must be (npoints, 3), but the input shape is {locations.shape}\"\n",
    "            )\n",
    "        self._locations = locations\n",
    "        \n",
    "        for component in components: \n",
    "            if component.lower() not in [\"x\", \"y\", \"z\"]:\n",
    "                raise ValueError(\n",
    "                    f\"Components must be 'x', 'y' or 'z', not {component}\"\n",
    "                )\n",
    "        self._components = components\n",
    "    \n",
    "    @property\n",
    "    def locations(self):\n",
    "        return self._locations\n",
    "\n",
    "    @property\n",
    "    def components(self):\n",
    "        return self._components\n",
    "    \n",
    "    @property\n",
    "    def nD(self):\n",
    "        if getattr(self, \"_nD\", None) is None:\n",
    "            self._nD = self.locations.shape[0] * len(self.components) \n",
    "        return self._nD\n",
    "                "
   ]
  },
  {
   "cell_type": "code",
   "execution_count": 7,
   "id": "4c1f0001-be2c-4898-ad12-8e8d2b3a3663",
   "metadata": {},
   "outputs": [],
   "source": [
    "class Survey(BaseSurvey):\n",
    "    \n",
    "    @property\n",
    "    def nD(self):\n",
    "        if getattr(self, \"_nD\", None) is None: \n",
    "            nD = 0\n",
    "            for src in self.source_list:\n",
    "                for rx in src.receiver_list:\n",
    "                    nD += rx.nD\n",
    "            self._nD = nD\n",
    "        return self._nD"
   ]
  },
  {
   "cell_type": "code",
   "execution_count": 8,
   "id": "def532b6-3f88-4178-8e32-d3ed4987ac36",
   "metadata": {},
   "outputs": [],
   "source": [
    "class SimulationPolarizabilityModel(BaseSimulation): \n",
    "    \n",
    "    def __init__(self, locations, survey, mapping=None):\n",
    "        if locations.shape[1] != 3: \n",
    "            raise ValueError(\n",
    "                f\"The location must be (npoints, 3), but the input shape is {location.shape}\"\n",
    "            )\n",
    "        self._locations = locations\n",
    "        self._nC = locations.shape[0]\n",
    "        \n",
    "        self._survey = survey\n",
    "        \n",
    "        if mapping is None: \n",
    "            mapping = maps.IdentityMap(nP=self._nC*3)\n",
    "        self._mapping = mapping\n",
    "    \n",
    "    @property\n",
    "    def locations(self):\n",
    "        return self._locations\n",
    "\n",
    "    @property\n",
    "    def nC(self):\n",
    "        return self._nC\n",
    "    \n",
    "    @property\n",
    "    def mapping(self):\n",
    "        return self._mapping\n",
    "    \n",
    "    @property\n",
    "    def survey(self):\n",
    "        return self._survey\n",
    "    \n",
    "    @property\n",
    "    def G(self):\n",
    "        if getattr(self, \"_G\", None) is None: \n",
    "            locations = self.locations\n",
    "            \n",
    "            G = []\n",
    "            for src in self.survey.source_list: \n",
    "                receivers = src.receiver_list[0]  # NOTE: Hard-coded for only one type of receivers\n",
    "                vector_distance = (receivers.locations[None, :, :] - locations[:, None, :])\n",
    "                distance = np.linalg.norm(vector_distance, axis=2)\n",
    "                rhat = vector_distance / distance[:, :, None]\n",
    "\n",
    "                receiver_components = np.zeros((0, 3))\n",
    "\n",
    "                for i, comp in enumerate([\"x\", \"y\", \"z\"]):\n",
    "                    if comp in receivers.components:\n",
    "                        e = np.zeros(3) \n",
    "                        e[i] = 1\n",
    "                        receiver_components = np.vstack([receiver_components, e])\n",
    "\n",
    "                G.append( \n",
    "                    mu_0 / (4*np.pi) * np.vstack([(\n",
    "                        receiver_components @ \n",
    "                        np.hstack([\n",
    "                            1/distance[j, i]**3 * (3*np.outer(rhat[j, i, :], rhat[j, i, :]) - np.eye(3))\n",
    "                            for j in range(locations.shape[0])\n",
    "                        ]) \n",
    "                    ) for i in range(rhat.shape[1])\n",
    "                ])) \n",
    "            self._G = G\n",
    "        return self._G \n",
    "\n",
    "    def magnetization(self, m, adjoint=False): \n",
    "        polarizabilities = self.mapping * m\n",
    "        return [src.eval(self.locations) * polarizabilities for src in self.survey.source_list]\n",
    "    \n",
    "    def fields(self, m):\n",
    "        G_list = self.G\n",
    "        m_list = self.magnetization(m) \n",
    "        \n",
    "        if len(G_list) != len(m_list): \n",
    "            raise Exception(\"Something is wrong, the length of the system matrix list and magnetizations don't match\")\n",
    "            \n",
    "        return [G @ m for G, m in zip(G_list, m_list)]\n",
    "\n",
    "    def dpred(self, m):\n",
    "        return np.hstack(self.fields(m))\n",
    "    \n",
    "    def Jvec(self, m, v, f=None): \n",
    "        G_list = self.G\n",
    "        src_v = self.magnetization(v)\n",
    "        return np.hstack([G @ vec for G, vec in zip(G_list, src_v)])\n",
    "    \n",
    "    def Jtvec(self, m, v, f=None): \n",
    "        G_list = self.G\n",
    "        return self.mapping * np.sum([src.eval(self.locations) * (G.T @ v[i*src.nD:(i+1)*src.nD])])"
   ]
  },
  {
   "cell_type": "code",
   "execution_count": 9,
   "id": "868b0bd1-ff66-439a-bf43-0cff2828da6e",
   "metadata": {},
   "outputs": [],
   "source": [
    "receivers_x = np.linspace(-5, 5, 20) #np.r_[0, 0.25]\n",
    "receivers_y = np.r_[0]\n",
    "receivers_z = np.r_[10]\n",
    "\n",
    "receiver_locs = discretize.utils.ndgrid(receivers_x, receivers_y, receivers_z)\n",
    "receivers = MulticomponentMagneticFluxDensity(locations=receiver_locs, components=[\"x\", \"y\", \"z\"])"
   ]
  },
  {
   "cell_type": "code",
   "execution_count": 10,
   "id": "9e0419f8-d26e-461a-8146-af8613135519",
   "metadata": {},
   "outputs": [],
   "source": [
    "x_nodes = 100*np.r_[-1, 1, 1, -1, -1]\n",
    "y_nodes = 100*np.r_[-1, -1, 1, 1, -1]\n",
    "z_nodes = 0*np.ones_like(x_nodes) \n",
    "src = MagneticControlledSource(receiver_list=[receivers], location=np.c_[x_nodes, y_nodes, z_nodes])"
   ]
  },
  {
   "cell_type": "code",
   "execution_count": 11,
   "id": "c166eff8-ce39-4f62-91a3-84b770b0a547",
   "metadata": {},
   "outputs": [],
   "source": [
    "survey = Survey([src])"
   ]
  },
  {
   "cell_type": "code",
   "execution_count": 12,
   "id": "8ddcc24b-41b5-404d-90c8-02bc4d417a1f",
   "metadata": {},
   "outputs": [],
   "source": [
    "locations = np.zeros((mesh.nC, 3))\n",
    "locations[:, :2] = mesh.gridCC"
   ]
  },
  {
   "cell_type": "code",
   "execution_count": 13,
   "id": "9efe2aa6-4eb8-4e85-9856-5b8e455ba350",
   "metadata": {},
   "outputs": [],
   "source": [
    "sim = SimulationPolarizabilityModel(locations, survey)"
   ]
  },
  {
   "cell_type": "code",
   "execution_count": 14,
   "id": "011a362d-ff55-4e6e-ae42-d24b63b78f23",
   "metadata": {},
   "outputs": [],
   "source": [
    "m = np.zeros(mesh.nC * 3) \n",
    "m[-1] = 1"
   ]
  },
  {
   "cell_type": "code",
   "execution_count": 16,
   "id": "9ebe741b-a5f6-473f-9289-81d6d1797020",
   "metadata": {},
   "outputs": [],
   "source": [
    "dpred = sim.dpred(m)"
   ]
  },
  {
   "cell_type": "code",
   "execution_count": 89,
   "id": "f0aa5c84-1a06-4397-8f2e-0b347638b0aa",
   "metadata": {},
   "outputs": [
    {
     "ename": "AttributeError",
     "evalue": "'numpy.ndarray' object has no attribute 'locations'",
     "output_type": "error",
     "traceback": [
      "\u001b[0;31m---------------------------------------------------------------------------\u001b[0m",
      "\u001b[0;31mAttributeError\u001b[0m                            Traceback (most recent call last)",
      "Input \u001b[0;32mIn [89]\u001b[0m, in \u001b[0;36m<cell line: 1>\u001b[0;34m()\u001b[0m\n\u001b[0;32m----> 1\u001b[0m vector_distance \u001b[38;5;241m=\u001b[39m (\u001b[43mreceivers\u001b[49m\u001b[38;5;241;43m.\u001b[39;49m\u001b[43mlocations\u001b[49m[\u001b[38;5;28;01mNone\u001b[39;00m, :, :] \u001b[38;5;241m-\u001b[39m locations[:, \u001b[38;5;28;01mNone\u001b[39;00m, :])\n",
      "\u001b[0;31mAttributeError\u001b[0m: 'numpy.ndarray' object has no attribute 'locations'"
     ]
    }
   ],
   "source": [
    "vector_distance = (receivers.locations[None, :, :] - locations[:, None, :])"
   ]
  },
  {
   "cell_type": "code",
   "execution_count": 30,
   "id": "702d0b9c-98a1-4663-8259-fb3b2b13da7f",
   "metadata": {},
   "outputs": [],
   "source": [
    "distance = np.linalg.norm(vector_distance, axis=2)\n",
    "rhat = vector_distance / distance[:, :, None]\n",
    "\n",
    "receiver_components = sp.csr_matrix((0,3))\n",
    "\n",
    "for i, comp in enumerate([\"x\", \"y\", \"z\"]):\n",
    "    if comp in receivers.components:\n",
    "        e = sp.csr_matrix((np.r_[1], (np.r_[0], np.r_[i])), shape=(1, 3))\n",
    "        receiver_components = sp.vstack([receiver_components, e])\n",
    "\n",
    "G = mu_0 / (4*np.pi) * ( \n",
    "    np.vstack([(\n",
    "        receiver_components @ \n",
    "        np.hstack([\n",
    "            1/distance[j, i]**3 * (3*np.outer(rhat[j, i, :], rhat[j, i, :]) - np.eye(3))\n",
    "            for j in range(locations.shape[0])\n",
    "        ]) \n",
    "    ) for i in range(rhat.shape[1])\n",
    "]))"
   ]
  },
  {
   "cell_type": "code",
   "execution_count": 31,
   "id": "c6ded1ed-823f-4280-840f-a95060cdb0f2",
   "metadata": {},
   "outputs": [
    {
     "data": {
      "text/plain": [
       "(30, 20)"
      ]
     },
     "execution_count": 31,
     "metadata": {},
     "output_type": "execute_result"
    }
   ],
   "source": [
    "distance.shape"
   ]
  },
  {
   "cell_type": "code",
   "execution_count": 32,
   "id": "23c846b7-e40f-4d4f-a7fa-5fdf859bc57a",
   "metadata": {},
   "outputs": [
    {
     "data": {
      "text/plain": [
       "(30, 20)"
      ]
     },
     "execution_count": 32,
     "metadata": {},
     "output_type": "execute_result"
    }
   ],
   "source": [
    "distance.shape"
   ]
  },
  {
   "cell_type": "code",
   "execution_count": null,
   "id": "b03faf29-aa89-4c1f-99ac-98e7d3eb74ea",
   "metadata": {},
   "outputs": [],
   "source": []
  },
  {
   "cell_type": "code",
   "execution_count": 74,
   "id": "305ffc90-bd9c-44fe-a0c4-0cdb70cb404c",
   "metadata": {},
   "outputs": [],
   "source": [
    "d = G @ m"
   ]
  },
  {
   "cell_type": "code",
   "execution_count": 18,
   "id": "7f2f0fc8-f517-47a5-9906-b79590874949",
   "metadata": {},
   "outputs": [],
   "source": [
    "dipole = geoana.em.static.MagneticDipoleWholeSpace(location=locations[-1, :], orientation=\"z\")"
   ]
  },
  {
   "cell_type": "code",
   "execution_count": 19,
   "id": "9dcf8faa-086c-4f6e-a076-9083b530cbae",
   "metadata": {},
   "outputs": [],
   "source": [
    "dana = dipole.magnetic_flux_density(receiver_locs)"
   ]
  },
  {
   "cell_type": "code",
   "execution_count": 20,
   "id": "22bbd5d8-394e-48bf-8287-11d3b2543c67",
   "metadata": {},
   "outputs": [
    {
     "data": {
      "text/plain": [
       "<matplotlib.legend.Legend at 0x7fa9f03e7460>"
      ]
     },
     "execution_count": 20,
     "metadata": {},
     "output_type": "execute_result"
    },
    {
     "data": {
      "image/png": "[encoded data removed]",
      "text/plain": [
       "<Figure size 864x288 with 3 Axes>"
      ]
     },
     "metadata": {
      "needs_background": "light"
     },
     "output_type": "display_data"
    }
   ],
   "source": [
    "fig, ax = plt.subplots(1, 3, figsize=(12, 4))\n",
    "for i, a in enumerate(ax):\n",
    "    # a.plot(receivers_x, d[i::3], \"-\", label=\"new\")\n",
    "    a.plot(receivers_x, dpred[i::3]/ dana[:, i], \"s\", label=\"sim\")\n",
    "    # a.plot(receivers_x, , \"o\", label=\"geoana\")\n",
    "ax[0].legend()"
   ]
  },
  {
   "cell_type": "code",
   "execution_count": 21,
   "id": "378e3962-5f1d-430e-a9d5-4b6987ece0b5",
   "metadata": {},
   "outputs": [
    {
     "data": {
      "text/plain": [
       "1.25663706212e-06"
      ]
     },
     "execution_count": 21,
     "metadata": {},
     "output_type": "execute_result"
    }
   ],
   "source": [
    "mu_0"
   ]
  },
  {
   "cell_type": "code",
   "execution_count": 78,
   "id": "a1d42c24-439f-458a-a62e-c1b28c182de9",
   "metadata": {},
   "outputs": [],
   "source": [
    "mapping = maps.IdentityMap(nP=mesh.nC)"
   ]
  },
  {
   "cell_type": "code",
   "execution_count": 66,
   "id": "b7949f46-d64b-416e-b78a-d704b340f795",
   "metadata": {},
   "outputs": [],
   "source": [
    "x_nodes = 100*np.r_[-1, 1, 1, -1, -1]\n",
    "y_nodes = 100*np.r_[-1, -1, 1, 1, -1]\n",
    "z_nodes = 0*np.ones_like(x_nodes) \n",
    "\n",
    "line_current=geoana.em.static.LineCurrentFreeSpace(\n",
    "    nodes=np.c_[x_nodes, y_nodes, z_nodes], current=1\n",
    ")"
   ]
  },
  {
   "cell_type": "code",
   "execution_count": 67,
   "id": "4bdf6dde-5ecb-4cce-84ef-5c5c44804a63",
   "metadata": {},
   "outputs": [
    {
     "data": {
      "text/plain": [
       "array([[0.00000000e+00, 0.00000000e+00, 7.98760638e-09],\n",
       "       [0.00000000e+00, 0.00000000e+00, 7.08984539e-09],\n",
       "       [0.00000000e+00, 0.00000000e+00, 6.87583681e-09],\n",
       "       [0.00000000e+00, 0.00000000e+00, 7.08984539e-09],\n",
       "       [0.00000000e+00, 0.00000000e+00, 7.98760638e-09],\n",
       "       [0.00000000e+00, 0.00000000e+00, 7.08984539e-09],\n",
       "       [0.00000000e+00, 0.00000000e+00, 6.12682995e-09],\n",
       "       [0.00000000e+00, 0.00000000e+00, 5.89458303e-09],\n",
       "       [0.00000000e+00, 0.00000000e+00, 6.12682995e-09],\n",
       "       [0.00000000e+00, 0.00000000e+00, 7.08984539e-09],\n",
       "       [0.00000000e+00, 0.00000000e+00, 6.87583681e-09],\n",
       "       [0.00000000e+00, 0.00000000e+00, 5.89458303e-09],\n",
       "       [0.00000000e+00, 0.00000000e+00, 5.65685425e-09],\n",
       "       [0.00000000e+00, 0.00000000e+00, 5.89458303e-09],\n",
       "       [0.00000000e+00, 0.00000000e+00, 6.87583681e-09],\n",
       "       [0.00000000e+00, 0.00000000e+00, 7.08984539e-09],\n",
       "       [0.00000000e+00, 0.00000000e+00, 6.12682995e-09],\n",
       "       [0.00000000e+00, 0.00000000e+00, 5.89458303e-09],\n",
       "       [0.00000000e+00, 0.00000000e+00, 6.12682995e-09],\n",
       "       [0.00000000e+00, 0.00000000e+00, 7.08984539e-09],\n",
       "       [0.00000000e+00, 0.00000000e+00, 7.98760638e-09],\n",
       "       [0.00000000e+00, 0.00000000e+00, 7.08984539e-09],\n",
       "       [0.00000000e+00, 0.00000000e+00, 6.87583681e-09],\n",
       "       [0.00000000e+00, 0.00000000e+00, 7.08984539e-09],\n",
       "       [0.00000000e+00, 0.00000000e+00, 7.98760638e-09]])"
      ]
     },
     "execution_count": 67,
     "metadata": {},
     "output_type": "execute_result"
    }
   ],
   "source": [
    "x = np.linspace(-50, 50, 5)\n",
    "y = np.linspace(-50, 50, 5)\n",
    "z = np.r_[0]\n",
    "receivers = discretize.utils.ndgrid(x, y, z)\n",
    "line_current.magnetic_flux_density(receivers)"
   ]
  },
  {
   "cell_type": "code",
   "execution_count": null,
   "id": "5ab72ba2-89f3-4e80-b059-53481afe9b68",
   "metadata": {},
   "outputs": [],
   "source": []
  }
 ],
 "metadata": {
  "kernelspec": {
   "display_name": "Python 3 (ipykernel)",
   "language": "python",
   "name": "python3"
  },
  "language_info": {
   "codemirror_mode": {
    "name": "ipython",
    "version": 3
   },
   "file_extension": ".py",
   "mimetype": "text/x-python",
   "name": "python",
   "nbconvert_exporter": "python",
   "pygments_lexer": "ipython3",
   "version": "3.8.13"
  }
 },
 "nbformat": 4,
 "nbformat_minor": 5
}
