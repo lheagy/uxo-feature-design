{
 "cells": [
  {
   "cell_type": "markdown",
   "id": "001ab238-9080-423e-9a92-c9264fe56885",
   "metadata": {
    "iooxa": {
     "id": {
      "block": "JcDPSeBLNPVpxoOjwSe0",
      "project": "2XV1umLvMDaNbxUWfsZc",
      "version": 1
     }
    }
   },
   "source": [
    "# Simple fwd / inv of a polarized block\n",
    "\n",
    "In this notebook, I set up a simple example where we use the dipole model to run a simulation and an inversion over a polarized block. This is mostly to test if the inversion is working and to compare if we impose positivity or not. "
   ]
  },
  {
   "cell_type": "code",
   "execution_count": 1,
   "id": "6b0a353b-1eb1-4cb5-b791-36aed300004c",
   "metadata": {
    "iooxa": {
     "id": {
      "block": "tIDKiV3oPPfQnsVkBjVe",
      "project": "2XV1umLvMDaNbxUWfsZc",
      "version": 1
     },
     "outputId": null
    }
   },
   "outputs": [],
   "source": [
    "import discretize\n",
    "import numpy as np\n",
    "from matplotlib import pyplot as plt\n",
    "import SimPEG as simpeg\n",
    "import geoana\n",
    "import scipy.sparse as sp\n",
    "\n",
    "import polarizability_model as pm"
   ]
  },
  {
   "cell_type": "code",
   "execution_count": 2,
   "id": "d085a951-2204-411e-958a-04dad6684677",
   "metadata": {
    "iooxa": {
     "id": {
      "block": "VH28kqxAzbFhva2CbiiA",
      "project": "2XV1umLvMDaNbxUWfsZc",
      "version": 1
     },
     "outputId": null
    }
   },
   "outputs": [],
   "source": [
    "core_domain = 3 # meters\n",
    "dx = 0.1\n",
    "nc = int(core_domain / dx) + 1\n",
    "npad = 2\n",
    "pf = 1.3\n",
    "hx = [(dx, npad, -pf), (dx, nc), (dx, npad, pf)]\n",
    "hy = [(dx, npad, -pf), (dx, nc), (dx, npad, pf)]\n",
    "mesh = discretize.TensorMesh([hx, hy], origin=\"CC\")"
   ]
  },
  {
   "cell_type": "code",
   "execution_count": 3,
   "id": "2c0b83de-71f3-4413-944f-fdf82e5cf653",
   "metadata": {
    "iooxa": {
     "id": {
      "block": "pB0QG3IZQSBeE0BvsglU",
      "project": "2XV1umLvMDaNbxUWfsZc",
      "version": 1
     },
     "outputId": null
    }
   },
   "outputs": [],
   "source": [
    "locations = np.hstack([mesh.gridCC, np.zeros((mesh.nC, 1))])"
   ]
  },
  {
   "cell_type": "markdown",
   "id": "4138290b-182d-442f-b3be-5a83c4ca5196",
   "metadata": {
    "iooxa": {
     "id": {
      "block": "diq5FpvET5QrIQll40af",
      "project": "2XV1umLvMDaNbxUWfsZc",
      "version": 1
     }
    }
   },
   "source": [
    "### Start with a simple example\n",
    "- uniform inducing field in x, y, z\n",
    "- grid of receivers in the core domain"
   ]
  },
  {
   "cell_type": "code",
   "execution_count": 4,
   "id": "f3556dc4-9d8b-4664-89a2-25622bbb2d15",
   "metadata": {
    "iooxa": {
     "id": {
      "block": "rVmACB95gPlagMN8urq3",
      "project": "2XV1umLvMDaNbxUWfsZc",
      "version": 1
     },
     "outputId": null
    }
   },
   "outputs": [],
   "source": [
    "rx_x = np.linspace(-core_domain/2, core_domain/2, 20)\n",
    "rx_y = rx_x\n",
    "rx_z = np.r_[0.25]\n",
    "\n",
    "rx_locs = discretize.utils.ndgrid([rx_x, rx_y, rx_z])"
   ]
  },
  {
   "cell_type": "code",
   "execution_count": 5,
   "id": "99b2a761-7818-4c5c-b5c8-8411f06ecdd7",
   "metadata": {
    "iooxa": {
     "id": {
      "block": "tJsNPFGoJCg0WCVia033",
      "project": "2XV1umLvMDaNbxUWfsZc",
      "version": 1
     },
     "outputId": {
      "block": "LbL1ZyKu5zB7HvjBOTDe",
      "project": "2XV1umLvMDaNbxUWfsZc",
      "version": 1
     }
    }
   },
   "outputs": [
    {
     "data": {
      "text/plain": [
       "[<matplotlib.lines.Line2D at 0x7fc3002676d0>]"
      ]
     },
     "execution_count": 5,
     "metadata": {},
     "output_type": "execute_result"
    },
    {
     "data": {
      "image/png": "[encoded data removed]",
      "text/plain": [
       "<Figure size 360x360 with 1 Axes>"
      ]
     },
     "metadata": {
      "needs_background": "light"
     },
     "output_type": "display_data"
    }
   ],
   "source": [
    "fig, ax = plt.subplots(1, 1, figsize=(5, 5))\n",
    "\n",
    "mesh.plot_grid(ax=ax)\n",
    "ax.plot(rx_locs[:, 0], rx_locs[:, 1], 'k.')"
   ]
  },
  {
   "cell_type": "code",
   "execution_count": 6,
   "id": "e14a7a9f-c93f-4050-8f96-982aea1168f2",
   "metadata": {
    "iooxa": {
     "id": {
      "block": "HQXFkDL9KQn4ufX8mGBc",
      "project": "2XV1umLvMDaNbxUWfsZc",
      "version": 1
     },
     "outputId": null
    }
   },
   "outputs": [],
   "source": [
    "receiver = pm.MagneticFluxDensityReceiver(rx_locs, components=[\"x\", \"y\", \"z\"])\n",
    "nrx = rx_locs.shape[0]"
   ]
  },
  {
   "cell_type": "code",
   "execution_count": 7,
   "id": "859021d2-1a21-47b6-a203-e7de40b98a64",
   "metadata": {
    "iooxa": {
     "id": {
      "block": "yy751A9ObhgKk4XyZiEm",
      "project": "2XV1umLvMDaNbxUWfsZc",
      "version": 1
     },
     "outputId": {
      "block": "HHPQ8HT1aTAPh0uhErBd",
      "project": "2XV1umLvMDaNbxUWfsZc",
      "version": 1
     }
    }
   },
   "outputs": [
    {
     "data": {
      "text/plain": [
       "['x', 'y', 'z']"
      ]
     },
     "execution_count": 7,
     "metadata": {},
     "output_type": "execute_result"
    }
   ],
   "source": [
    "receiver.components"
   ]
  },
  {
   "cell_type": "code",
   "execution_count": 8,
   "id": "c202a4b1-7637-401d-a8c7-a06e4f796977",
   "metadata": {
    "iooxa": {
     "id": {
      "block": "Wf3lMNwuY43NSwQAMl55",
      "project": "2XV1umLvMDaNbxUWfsZc",
      "version": 1
     },
     "outputId": {
      "block": "slgCotZvcVb1cAri83dk",
      "project": "2XV1umLvMDaNbxUWfsZc",
      "version": 1
     }
    }
   },
   "outputs": [
    {
     "data": {
      "text/plain": [
       "{'x': 0, 'y': 1, 'z': 2}"
      ]
     },
     "execution_count": 8,
     "metadata": {},
     "output_type": "execute_result"
    }
   ],
   "source": [
    "pm.survey.component_dictionary"
   ]
  },
  {
   "cell_type": "code",
   "execution_count": 9,
   "id": "54b88809-eafa-4722-a1dd-0dd44f018279",
   "metadata": {
    "iooxa": {
     "id": {
      "block": "cCCBhuFhcS4cSn0FdWiB",
      "project": "2XV1umLvMDaNbxUWfsZc",
      "version": 1
     },
     "outputId": null
    }
   },
   "outputs": [],
   "source": [
    "receiver_components = np.zeros((0, len(receiver.components)))\n",
    "\n",
    "for comp in receiver.components:\n",
    "    if comp in receiver.components:\n",
    "        e = np.zeros(3)\n",
    "        e[pm.survey.component_dictionary[comp]] = 1\n",
    "        receiver_components = np.vstack(\n",
    "            [receiver_components, e])"
   ]
  },
  {
   "cell_type": "code",
   "execution_count": 10,
   "id": "51b7dda8-b389-48f3-948f-78e5a9ba633f",
   "metadata": {
    "iooxa": {
     "id": {
      "block": "7sPbmBtkMx2xZSv1qVzk",
      "project": "2XV1umLvMDaNbxUWfsZc",
      "version": 1
     },
     "outputId": {
      "block": "OgOF5DPYOhtxzR3ARh6u",
      "project": "2XV1umLvMDaNbxUWfsZc",
      "version": 1
     }
    }
   },
   "outputs": [
    {
     "data": {
      "text/plain": [
       "array([[1., 0., 0.],\n",
       "       [0., 1., 0.],\n",
       "       [0., 0., 1.]])"
      ]
     },
     "execution_count": 10,
     "metadata": {},
     "output_type": "execute_result"
    }
   ],
   "source": [
    "receiver_components"
   ]
  },
  {
   "cell_type": "code",
   "execution_count": 11,
   "id": "2b422a50-2b7a-43fc-9810-8ed0b2a50838",
   "metadata": {
    "iooxa": {
     "id": {
      "block": "diSQuS4TcyxBL8Q8Qapg",
      "project": "2XV1umLvMDaNbxUWfsZc",
      "version": 1
     },
     "outputId": null
    }
   },
   "outputs": [],
   "source": [
    "src_list = [\n",
    "    pm.MagneticUniformSource([receiver], orientation) for orientation in [\"x\", \"y\", \"z\"]\n",
    "]               "
   ]
  },
  {
   "cell_type": "code",
   "execution_count": 12,
   "id": "9247ae4b-a3e1-4df0-8865-fa1d430a89e9",
   "metadata": {
    "iooxa": {
     "id": {
      "block": "hgZlsvwWgW2pTtLWfjAt",
      "project": "2XV1umLvMDaNbxUWfsZc",
      "version": 1
     },
     "outputId": null
    }
   },
   "outputs": [],
   "source": [
    "survey = pm.Survey(src_list)"
   ]
  },
  {
   "cell_type": "code",
   "execution_count": 13,
   "id": "b1f528f2-67ce-4565-beb9-5946b23f02ca",
   "metadata": {
    "iooxa": {
     "id": {
      "block": "gE8liYxwtscWziUJElrU",
      "project": "2XV1umLvMDaNbxUWfsZc",
      "version": 1
     },
     "outputId": null
    }
   },
   "outputs": [],
   "source": [
    "sim = pm.SimulationPolarizabilityModel(locations, survey)"
   ]
  },
  {
   "cell_type": "code",
   "execution_count": 14,
   "id": "de14fd15-895e-431b-8dd1-d2af6d2619ec",
   "metadata": {
    "iooxa": {
     "id": {
      "block": "GE26xclFVUfXQf8DRBwN",
      "project": "2XV1umLvMDaNbxUWfsZc",
      "version": 1
     },
     "outputId": null
    }
   },
   "outputs": [],
   "source": [
    "mtrue = np.zeros_like(locations)\n",
    "\n",
    "x_target = np.r_[-0.25, 0.25]\n",
    "y_target = np.r_[-0.25, 0.25]\n",
    "m_target = np.r_[0.1, 0.1, 2]\n",
    "\n",
    "bounding_box = (\n",
    "    (locations[:, 0] > x_target.min()) &\n",
    "    (locations[:, 0] < x_target.max()) &\n",
    "    (locations[:, 1] > y_target.min()) &\n",
    "    (locations[:, 1] < y_target.max()) \n",
    ")\n",
    "for i, m in enumerate(m_target): \n",
    "    mtrue[bounding_box, i] = m\n",
    "\n",
    "mtrue = mtrue.flatten() #discretize.utils.mkvc(mtrue)"
   ]
  },
  {
   "cell_type": "code",
   "execution_count": 15,
   "id": "aef60d3b-45c5-4dfc-a217-62233ea7fee7",
   "metadata": {
    "iooxa": {
     "id": {
      "block": "6o2h1Fd4uqGuSae9AyEG",
      "project": "2XV1umLvMDaNbxUWfsZc",
      "version": 1
     },
     "outputId": null
    }
   },
   "outputs": [],
   "source": [
    "def plot_model(model, ax=None):\n",
    "    if ax is None:\n",
    "        fig, ax = plt.subplots(1, 3, figsize=(11, 3))\n",
    "    \n",
    "    for i, label in enumerate([\"x\", \"y\", \"z\"]): \n",
    "        plt.colorbar(mesh.plot_image(model[i::3], ax=ax[i])[0], ax=ax[i])\n",
    "        ax[i].set_title(f\"$m_{label}$\")\n",
    "        ax[i].set_aspect(1)\n",
    "    plt.tight_layout()"
   ]
  },
  {
   "cell_type": "code",
   "execution_count": 16,
   "id": "50ba92e8-cadb-4fb4-8ed7-df78ce7cdc32",
   "metadata": {
    "iooxa": {
     "id": {
      "block": "Reo0HQ0Bxw54ppcVOswT",
      "project": "2XV1umLvMDaNbxUWfsZc",
      "version": 1
     },
     "outputId": {
      "block": "Yq51XA9dXHiO7t6MgzJk",
      "project": "2XV1umLvMDaNbxUWfsZc",
      "version": 1
     }
    }
   },
   "outputs": [
    {
     "data": {
      "image/png": "[encoded data removed]",
      "text/plain": [
       "<Figure size 792x216 with 6 Axes>"
      ]
     },
     "metadata": {
      "needs_background": "light"
     },
     "output_type": "display_data"
    }
   ],
   "source": [
    "plot_model(mtrue)"
   ]
  },
  {
   "cell_type": "code",
   "execution_count": 17,
   "id": "9a3e556d-2b79-497d-b265-5774238a9eb0",
   "metadata": {
    "iooxa": {
     "id": {
      "block": "4ee07XXQnM5xab2JkTJz",
      "project": "2XV1umLvMDaNbxUWfsZc",
      "version": 1
     },
     "outputId": null
    }
   },
   "outputs": [],
   "source": [
    "dtrue = sim.dpred(mtrue.flatten())\n",
    "# data_true = simpeg.Data(survey, dtrue)"
   ]
  },
  {
   "cell_type": "code",
   "execution_count": 18,
   "id": "3f23a613-b7a4-4284-9cce-8dd18b4caf0b",
   "metadata": {
    "iooxa": {
     "id": {
      "block": "HysgjfdkuTCu4UpIDglm",
      "project": "2XV1umLvMDaNbxUWfsZc",
      "version": 1
     },
     "outputId": null
    }
   },
   "outputs": [],
   "source": [
    "# plot the data\n",
    "\n",
    "def plot_data(dplot, ax=None): \n",
    "    if ax is None: \n",
    "        fig, ax = plt.subplots(3,3, figsize=(10, 8))\n",
    "\n",
    "    contour_opts = {\n",
    "        \"cmap\": \"Spectral_r\"\n",
    "    }\n",
    "    n_interpolate = 40\n",
    "\n",
    "    for i, src in enumerate(src_list):\n",
    "        for j, comp in enumerate(src.receiver_list[0].components): \n",
    "            dij = dplot[i*3*nrx:(i+1)*3*nrx][j::3]\n",
    "            if np.any(dij): \n",
    "                contour_opts[\"vmin\"] = -1*np.max(np.abs(dij))\n",
    "                contour_opts[\"vmax\"] = np.max(np.abs(dij))\n",
    "                plt.colorbar(\n",
    "                    simpeg.utils.plot2Ddata(\n",
    "                        rx_locs[:,:2], dij, ax=ax[i, j], \n",
    "                        contourOpts=contour_opts, nx=n_interpolate, ny=n_interpolate\n",
    "                    )[0], \n",
    "                    ax=ax[i, j]\n",
    "                )\n",
    "            ax[i, j].set_title(f\"src: {src.orientation}, rx: {comp}\")\n",
    "            ax[i, j].set_aspect(1)\n",
    "    plt.tight_layout()\n",
    "    return ax"
   ]
  },
  {
   "cell_type": "code",
   "execution_count": 19,
   "id": "280a5144-0991-4fad-970b-02f662c467c1",
   "metadata": {
    "iooxa": {
     "id": {
      "block": "2kxiao2GcZ5jrOsDFA30",
      "project": "2XV1umLvMDaNbxUWfsZc",
      "version": 1
     },
     "outputId": {
      "block": "s1dj3TLyaale7ZoqhWa1",
      "project": "2XV1umLvMDaNbxUWfsZc",
      "version": 1
     }
    }
   },
   "outputs": [
    {
     "data": {
      "image/png": "[encoded data removed]",
      "text/plain": [
       "<Figure size 720x576 with 18 Axes>"
      ]
     },
     "metadata": {
      "needs_background": "light"
     },
     "output_type": "display_data"
    }
   ],
   "source": [
    "plot_data(dtrue);"
   ]
  },
  {
   "cell_type": "markdown",
   "id": "523485f5-3eb6-4a85-95d1-01ae053a5e36",
   "metadata": {
    "iooxa": {
     "id": {
      "block": "5UOLe0MROOxnxvx1XFxN",
      "project": "2XV1umLvMDaNbxUWfsZc",
      "version": 1
     }
    }
   },
   "source": [
    "# try a simple inversion"
   ]
  },
  {
   "cell_type": "code",
   "execution_count": 20,
   "id": "be57339a-9480-4e61-88f4-a0343f74fdf8",
   "metadata": {
    "iooxa": {
     "id": {
      "block": "iUipwC835uwye11Dd4zq",
      "project": "2XV1umLvMDaNbxUWfsZc",
      "version": 1
     },
     "outputId": null
    }
   },
   "outputs": [],
   "source": [
    "import pydiso\n",
    "from pymatsolver import Pardiso as Solver"
   ]
  },
  {
   "cell_type": "code",
   "execution_count": 21,
   "id": "b4216b0f-6af2-4b15-83c9-e8437e530fc5",
   "metadata": {
    "iooxa": {
     "id": {
      "block": "szhvKkm6C6uK0knSZF5Q",
      "project": "2XV1umLvMDaNbxUWfsZc",
      "version": 1
     },
     "outputId": null
    }
   },
   "outputs": [],
   "source": [
    "noise_floor = 0.01 * np.max(np.abs(dtrue))\n",
    "\n",
    "G = np.vstack(sim.G)\n",
    "Wd = (1./noise_floor) * np.eye(survey.nD)\n",
    "WdG = Wd @ G\n",
    "WdG2 = WdG.T @ WdG \n",
    "rhs = WdG.T @ Wd @ dtrue"
   ]
  },
  {
   "cell_type": "code",
   "execution_count": 22,
   "id": "f79f97af-996e-4c6a-86ea-e931a859e7a0",
   "metadata": {
    "iooxa": {
     "id": {
      "block": "cxmcjL1OgObM0tF3Atpp",
      "project": "2XV1umLvMDaNbxUWfsZc",
      "version": 1
     },
     "outputId": null
    }
   },
   "outputs": [],
   "source": [
    "beta = 1\n",
    "A =  WdG2 + beta * np.eye(locations.shape[0]*3)"
   ]
  },
  {
   "cell_type": "code",
   "execution_count": 23,
   "id": "4cc96971-6d1d-41c0-a570-8580ff60da76",
   "metadata": {
    "iooxa": {
     "id": {
      "block": "McVihF9b08vQNKd4WFqw",
      "project": "2XV1umLvMDaNbxUWfsZc",
      "version": 1
     },
     "outputId": {
      "block": "7sM6UPuag7e7w53mcgUK",
      "project": "2XV1umLvMDaNbxUWfsZc",
      "version": 1
     }
    }
   },
   "outputs": [
    {
     "name": "stdout",
     "output_type": "stream",
     "text": [
      "CPU times: user 4.76 s, sys: 838 ms, total: 5.6 s\n",
      "Wall time: 4.48 s\n"
     ]
    }
   ],
   "source": [
    "%%time\n",
    "Ainv = Solver(sp.csr_matrix(A))\n",
    "mrec = Ainv * rhs"
   ]
  },
  {
   "cell_type": "code",
   "execution_count": 24,
   "id": "d14226d7-c5cf-4c82-a457-89e39b0bdc2a",
   "metadata": {
    "iooxa": {
     "id": {
      "block": "QSoiZRkcDc6ke7gwRsVh",
      "project": "2XV1umLvMDaNbxUWfsZc",
      "version": 1
     },
     "outputId": {
      "block": "IwbPz3PfVLxYxKYs9ub6",
      "project": "2XV1umLvMDaNbxUWfsZc",
      "version": 1
     }
    }
   },
   "outputs": [
    {
     "name": "stdout",
     "output_type": "stream",
     "text": [
      "95960.6337419298 3600\n"
     ]
    }
   ],
   "source": [
    "r = 1./noise_floor*(G@mrec-dtrue)\n",
    "print(np.inner(r,r), survey.nD)"
   ]
  },
  {
   "cell_type": "code",
   "execution_count": 25,
   "id": "2f5017be-f109-4143-ae93-75697ba98ace",
   "metadata": {
    "iooxa": {
     "id": {
      "block": "PmObjChJn6RNy2MAWGPL",
      "project": "2XV1umLvMDaNbxUWfsZc",
      "version": 1
     },
     "outputId": {
      "block": "ZbTITP7bOmAQ1LTfmVjb",
      "project": "2XV1umLvMDaNbxUWfsZc",
      "version": 1
     }
    }
   },
   "outputs": [
    {
     "data": {
      "image/png": "[encoded data removed]",
      "text/plain": [
       "<Figure size 792x216 with 6 Axes>"
      ]
     },
     "metadata": {
      "needs_background": "light"
     },
     "output_type": "display_data"
    }
   ],
   "source": [
    "plot_model(mrec)"
   ]
  },
  {
   "cell_type": "markdown",
   "id": "a42016ff-c8eb-412f-a733-7944f1def2d8",
   "metadata": {
    "iooxa": {
     "id": {
      "block": "kSQWljg7LVzi4MLciLUy",
      "project": "2XV1umLvMDaNbxUWfsZc",
      "version": 1
     }
    }
   },
   "source": [
    "# inversion that enforces positivity -- SimPEG"
   ]
  },
  {
   "cell_type": "code",
   "execution_count": 26,
   "id": "c6e2d585-0976-49b0-83c3-e33a89d25c9f",
   "metadata": {
    "iooxa": {
     "id": {
      "block": "2ZtGkZzaqjoGGwKdtXW6",
      "project": "2XV1umLvMDaNbxUWfsZc",
      "version": 1
     },
     "outputId": null
    }
   },
   "outputs": [],
   "source": [
    "from SimPEG import (\n",
    "    data_misfit, regularization, optimization, inverse_problem, inversion, directives, Data, maps\n",
    ")\n",
    "\n"
   ]
  },
  {
   "cell_type": "code",
   "execution_count": 27,
   "id": "2eedc3a9-f4ca-478d-a603-5ff763d00416",
   "metadata": {
    "iooxa": {
     "id": {
      "block": "4UEK3i2fsbxIJt6SR9LI",
      "project": "2XV1umLvMDaNbxUWfsZc",
      "version": 1
     },
     "outputId": {
      "block": "EqlTFaneLAWSWDWPTzo9",
      "project": "2XV1umLvMDaNbxUWfsZc",
      "version": 1
     }
    }
   },
   "outputs": [
    {
     "name": "stdout",
     "output_type": "stream",
     "text": [
      "1.364744329279153\n"
     ]
    }
   ],
   "source": [
    "noise_floor = 0.01 * np.max(np.abs(dtrue))\n",
    "print(noise_floor)"
   ]
  },
  {
   "cell_type": "code",
   "execution_count": 28,
   "id": "f057a47b-7ac8-42b3-b3cf-8617d8147013",
   "metadata": {
    "iooxa": {
     "id": {
      "block": "gFGj9DC86iup62Y44Uyx",
      "project": "2XV1umLvMDaNbxUWfsZc",
      "version": 1
     },
     "outputId": null
    }
   },
   "outputs": [],
   "source": [
    "dmis = data_misfit.L2DataMisfit(\n",
    "    data=Data(survey, dobs=dtrue, noise_floor=noise_floor), simulation=sim\n",
    ")\n",
    "\n",
    "nmodel = mesh.nC*3\n",
    "map_x = maps.Projection(nP=nmodel, index=slice(0,nmodel,3))\n",
    "map_y = maps.Projection(nP=nmodel, index=slice(1,nmodel,3))\n",
    "map_z = maps.Projection(nP=nmodel, index=slice(2,nmodel,3))\n",
    "reg = (\n",
    "    regularization.SimpleSmall(mesh, mapping=map_x, mref=np.zeros(len(locations)*3)) + \n",
    "    regularization.SimpleSmall(mesh, mapping=map_y, mref=np.zeros(len(locations)*3)) + \n",
    "    regularization.SimpleSmall(mesh, mapping=map_z, mref=np.zeros(len(locations)*3))  \n",
    ")"
   ]
  },
  {
   "cell_type": "code",
   "execution_count": 29,
   "id": "1e92df96-f535-453a-b7df-f3ec1218c8a0",
   "metadata": {
    "iooxa": {
     "id": {
      "block": "NAR6OdIzavqv4hFEMvUM",
      "project": "2XV1umLvMDaNbxUWfsZc",
      "version": 1
     },
     "outputId": null
    }
   },
   "outputs": [],
   "source": [
    "opt = optimization.ProjectedGNCG(maxIterCG=40, lower=0, maxIter=20) \n",
    "invprob = inverse_problem.BaseInvProblem(dmis, reg, opt) "
   ]
  },
  {
   "cell_type": "code",
   "execution_count": 30,
   "id": "3e07cdc8-0f91-45f7-ba9e-6975a1852ecd",
   "metadata": {
    "iooxa": {
     "id": {
      "block": "yGrz1gsFlL40fuJ86zcy",
      "project": "2XV1umLvMDaNbxUWfsZc",
      "version": 1
     },
     "outputId": null
    }
   },
   "outputs": [],
   "source": [
    "directive_list = [\n",
    "    directives.BetaEstimate_ByEig(beta0_ratio=2), \n",
    "    directives.BetaSchedule(coolingFactor=2.0, coolingRate=1),\n",
    "    directives.TargetMisfit()\n",
    "]"
   ]
  },
  {
   "cell_type": "code",
   "execution_count": 31,
   "id": "bd9d4c05-06ae-4a78-8157-18e037d3f966",
   "metadata": {
    "iooxa": {
     "id": {
      "block": "TsJEWzaM93zMzIOu5H0g",
      "project": "2XV1umLvMDaNbxUWfsZc",
      "version": 1
     },
     "outputId": null
    }
   },
   "outputs": [],
   "source": [
    "inv = inversion.BaseInversion(invprob, directive_list)"
   ]
  },
  {
   "cell_type": "code",
   "execution_count": 32,
   "id": "46f8e4f9-8bad-44c0-a09e-20dfa1dc1a22",
   "metadata": {
    "iooxa": {
     "id": {
      "block": "SIsmZqnbGffRJrcFVZry",
      "project": "2XV1umLvMDaNbxUWfsZc",
      "version": 1
     },
     "outputId": {
      "block": "EGHatPj8EjNwKMneKUVk",
      "project": "2XV1umLvMDaNbxUWfsZc",
      "version": 1
     }
    }
   },
   "outputs": [
    {
     "name": "stdout",
     "output_type": "stream",
     "text": [
      "\n",
      "        SimPEG.InvProblem is setting bfgsH0 to the inverse of the eval2Deriv.\n",
      "        ***Done using same Solver and solverOpts as the problem***\n",
      "model has any nan: 0\n",
      "=============================== Projected GNCG ===============================\n",
      "  #     beta     phi_d     phi_m       f      |proj(x-g)-x|  LS    Comment   \n",
      "-----------------------------------------------------------------------------\n",
      "x0 has any nan: 0\n"
     ]
    },
    {
     "name": "stderr",
     "output_type": "stream",
     "text": [
      "/Users/lindseyjh/opt/miniconda3/envs/uxo/lib/python3.8/site-packages/pymatsolver/direct.py:23: PardisoTypeConversionWarning: Converting csc_matrix matrix to CSR format, will slow down.\n",
      "  self.solver = MKLPardisoSolver(\n"
     ]
    },
    {
     "name": "stdout",
     "output_type": "stream",
     "text": [
      "   0  3.88e+03  7.20e+04  1.84e-37  7.20e+04    1.59e+04      0              \n"
     ]
    },
    {
     "name": "stderr",
     "output_type": "stream",
     "text": [
      "/Users/lindseyjh/opt/miniconda3/envs/uxo/lib/python3.8/site-packages/pymatsolver/direct.py:73: PardisoTypeConversionWarning: Converting csc_matrix matrix to CSR format, will slow down.\n",
      "  self.solver.refactor(self.A)\n"
     ]
    },
    {
     "name": "stdout",
     "output_type": "stream",
     "text": [
      "   1  1.94e+03  3.49e+04  3.80e+00  4.23e+04    5.63e+03      0              \n",
      "   2  9.69e+02  2.03e+04  9.14e+00  2.91e+04    4.14e+03      0   Skip BFGS  \n",
      "   3  4.85e+02  9.65e+03  1.68e+01  1.78e+04    2.81e+03      0   Skip BFGS  \n",
      "   4  2.42e+02  3.80e+03  2.52e+01  9.90e+03    1.71e+03      0   Skip BFGS  \n",
      "------------------------- STOP! -------------------------\n",
      "1 : |fc-fOld| = 0.0000e+00 <= tolF*(1+|f0|) = 7.1971e+03\n",
      "0 : |xc-x_last| = 9.4559e-01 <= tolX*(1+|x0|) = 1.0000e-01\n",
      "0 : |proj(x-g)-x|    = 1.7113e+03 <= tolG          = 1.0000e-01\n",
      "0 : |proj(x-g)-x|    = 1.7113e+03 <= 1e3*eps       = 1.0000e-02\n",
      "0 : maxIter   =      20    <= iter          =      5\n",
      "------------------------- DONE! -------------------------\n"
     ]
    }
   ],
   "source": [
    "mrec_pos = inv.run(np.zeros(mesh.nC * 3)+1e-20)"
   ]
  },
  {
   "cell_type": "code",
   "execution_count": 33,
   "id": "fea1fe29-e726-494e-b656-60f3383f8c53",
   "metadata": {
    "iooxa": {
     "id": {
      "block": "KF2Iib1GlOBPEB4oJsZp",
      "project": "2XV1umLvMDaNbxUWfsZc",
      "version": 1
     },
     "outputId": {
      "block": "uVEMo6b8whMkDmd6EvJ5",
      "project": "2XV1umLvMDaNbxUWfsZc",
      "version": 1
     }
    }
   },
   "outputs": [
    {
     "data": {
      "image/png": "[encoded data removed]",
      "text/plain": [
       "<Figure size 720x576 with 18 Axes>"
      ]
     },
     "metadata": {
      "needs_background": "light"
     },
     "output_type": "display_data"
    }
   ],
   "source": [
    "plot_data(invprob.dpred - dtrue);"
   ]
  },
  {
   "cell_type": "code",
   "execution_count": 34,
   "id": "5db0fb10-987e-4372-a1a5-561a6451b37e",
   "metadata": {
    "iooxa": {
     "id": {
      "block": "9LI7gglrBJmQMiOj5i5L",
      "project": "2XV1umLvMDaNbxUWfsZc",
      "version": 1
     },
     "outputId": {
      "block": "VA1LIi4d9jzVVbQXM0Jw",
      "project": "2XV1umLvMDaNbxUWfsZc",
      "version": 1
     }
    }
   },
   "outputs": [
    {
     "data": {
      "image/png": "[encoded data removed]",
      "text/plain": [
       "<Figure size 792x216 with 6 Axes>"
      ]
     },
     "metadata": {
      "needs_background": "light"
     },
     "output_type": "display_data"
    }
   ],
   "source": [
    "plot_model(mrec_pos)"
   ]
  },
  {
   "cell_type": "code",
   "execution_count": null,
   "id": "76102c0e-4a30-49a6-adf8-3d1264fe056a",
   "metadata": {},
   "outputs": [],
   "source": []
  },
  {
   "cell_type": "code",
   "execution_count": null,
   "id": "f86008d4-5c93-491a-87e1-f2e267d20ca2",
   "metadata": {},
   "outputs": [],
   "source": []
  }
 ],
 "metadata": {
  "iooxa": {
   "id": {
    "block": "V5d5ErK1WmHCCMqTCSR8",
    "project": "2XV1umLvMDaNbxUWfsZc",
    "version": 1
   }
  },
  "kernelspec": {
   "display_name": "Python 3 (ipykernel)",
   "language": "python",
   "name": "python3"
  },
  "language_info": {
   "codemirror_mode": {
    "name": "ipython",
    "version": 3
   },
   "file_extension": ".py",
   "mimetype": "text/x-python",
   "name": "python",
   "nbconvert_exporter": "python",
   "pygments_lexer": "ipython3",
   "version": "3.8.13"
  }
 },
 "nbformat": 4,
 "nbformat_minor": 5
}
