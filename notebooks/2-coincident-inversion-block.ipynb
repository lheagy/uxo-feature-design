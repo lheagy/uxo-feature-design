{
 "cells": [
  {
   "cell_type": "markdown",
   "id": "001ab238-9080-423e-9a92-c9264fe56885",
   "metadata": {
    "iooxa": {
     "id": {
      "block": "vgNDtUGj8gdPkNTMHVSt",
      "project": "2XV1umLvMDaNbxUWfsZc",
      "version": 1
     }
    }
   },
   "source": [
    "# fwd / inv of a polarized block with a coincident loop system\n",
    "\n",
    "In this notebook, I set up a simple example where we use the dipole model to run a simulation and an inversion over a polarized block. This is mostly to test if the inversion is working and to compare if we impose positivity or not. "
   ]
  },
  {
   "cell_type": "code",
   "execution_count": 1,
   "id": "6b0a353b-1eb1-4cb5-b791-36aed300004c",
   "metadata": {
    "iooxa": {
     "id": {
      "block": "U0Ytd9ZGLbN4TCk0d4JZ",
      "project": "2XV1umLvMDaNbxUWfsZc",
      "version": 1
     },
     "outputId": null
    }
   },
   "outputs": [],
   "source": [
    "import discretize\n",
    "import numpy as np\n",
    "from matplotlib import pyplot as plt\n",
    "import SimPEG as simpeg\n",
    "import geoana\n",
    "import scipy.sparse as sp\n",
    "\n",
    "import polarizability_model as pm\n",
    "import uxo_utils"
   ]
  },
  {
   "cell_type": "code",
   "execution_count": 141,
   "id": "d085a951-2204-411e-958a-04dad6684677",
   "metadata": {
    "iooxa": {
     "id": {
      "block": "FfbsYNWc9aKkyTvRtjwL",
      "project": "2XV1umLvMDaNbxUWfsZc",
      "version": 1
     },
     "outputId": null
    }
   },
   "outputs": [],
   "source": [
    "core_domain = 2 # meters\n",
    "dx = 0.1\n",
    "nc = int(core_domain / dx) + 1\n",
    "npad = 2\n",
    "pf = 1.3\n",
    "hx = [(dx, npad, -pf), (dx, nc), (dx, npad, pf)]\n",
    "hy = [(dx, npad, -pf), (dx, nc), (dx, npad, pf)]\n",
    "mesh = discretize.TensorMesh([hx, hy], origin=\"CC\")"
   ]
  },
  {
   "cell_type": "code",
   "execution_count": 142,
   "id": "2c0b83de-71f3-4413-944f-fdf82e5cf653",
   "metadata": {
    "iooxa": {
     "id": {
      "block": "D1KsBBEhyumU1Evpg5xE",
      "project": "2XV1umLvMDaNbxUWfsZc",
      "version": 1
     },
     "outputId": null
    }
   },
   "outputs": [],
   "source": [
    "locations = np.hstack([mesh.gridCC, -0.1*np.ones((mesh.nC, 1))])"
   ]
  },
  {
   "cell_type": "markdown",
   "id": "4138290b-182d-442f-b3be-5a83c4ca5196",
   "metadata": {
    "iooxa": {
     "id": {
      "block": "nudpubBINXyUWTOLYg9R",
      "project": "2XV1umLvMDaNbxUWfsZc",
      "version": 1
     }
    }
   },
   "source": [
    "### Start with a simple example\n",
    "- uniform inducing field in x, y, z\n",
    "- grid of receivers in the core domain"
   ]
  },
  {
   "cell_type": "code",
   "execution_count": 143,
   "id": "f3556dc4-9d8b-4664-89a2-25622bbb2d15",
   "metadata": {
    "iooxa": {
     "id": {
      "block": "TDJLsOtKzrskARYam2Ir",
      "project": "2XV1umLvMDaNbxUWfsZc",
      "version": 1
     },
     "outputId": null
    }
   },
   "outputs": [],
   "source": [
    "rx_x = np.linspace(-core_domain/2, core_domain/2, 20)\n",
    "rx_y = rx_x\n",
    "rx_z = np.r_[0.28]\n",
    "\n",
    "xyz = discretize.utils.ndgrid([rx_x, rx_y, rx_z])"
   ]
  },
  {
   "cell_type": "code",
   "execution_count": 144,
   "id": "99b2a761-7818-4c5c-b5c8-8411f06ecdd7",
   "metadata": {
    "iooxa": {
     "id": {
      "block": "959xYKMtHGdic7IadVsS",
      "project": "2XV1umLvMDaNbxUWfsZc",
      "version": 1
     },
     "outputId": {
      "block": "lPum1vps7ZSj67D4HO2T",
      "project": "2XV1umLvMDaNbxUWfsZc",
      "version": 1
     }
    }
   },
   "outputs": [
    {
     "data": {
      "text/plain": [
       "[<matplotlib.lines.Line2D at 0x7f80e30b2af0>]"
      ]
     },
     "execution_count": 144,
     "metadata": {},
     "output_type": "execute_result"
    },
    {
     "data": {
      "image/png": "[encoded data removed]",
      "text/plain": [
       "<Figure size 360x360 with 1 Axes>"
      ]
     },
     "metadata": {
      "needs_background": "light"
     },
     "output_type": "display_data"
    }
   ],
   "source": [
    "fig, ax = plt.subplots(1, 1, figsize=(5, 5))\n",
    "\n",
    "mesh.plot_grid(ax=ax)\n",
    "ax.plot(xyz[:, 0], xyz[:, 1], 'k.')"
   ]
  },
  {
   "cell_type": "code",
   "execution_count": 145,
   "id": "2cf3f705-003e-407c-88ac-405c616c8e9b",
   "metadata": {
    "iooxa": {
     "id": {
      "block": "GNQS2YKCQnoHSyCtgARH",
      "project": "2XV1umLvMDaNbxUWfsZc",
      "version": 1
     },
     "outputId": null
    }
   },
   "outputs": [],
   "source": [
    "sensorinfo = uxo_utils.CustomSensorInfo.coincident_system(\n",
    "    tx_width=1., rx_width = 0.1\n",
    ")"
   ]
  },
  {
   "cell_type": "code",
   "execution_count": 146,
   "id": "54b88809-eafa-4722-a1dd-0dd44f018279",
   "metadata": {
    "iooxa": {
     "id": {
      "block": "tZASZY690oRLO4HxNYGh",
      "project": "2XV1umLvMDaNbxUWfsZc",
      "version": 1
     },
     "outputId": null
    }
   },
   "outputs": [],
   "source": [
    "src_list = []\n",
    "nrx = len(sensorinfo.receivers)\n",
    "\n",
    "tx = sensorinfo.transmitters[0]\n",
    "for i in range(xyz.shape[0]):\n",
    "    tx_corners = tx.shape + xyz[i, :]\n",
    "    tx_corners = np.vstack([tx_corners, tx_corners[:1, :]])  # close the loop\n",
    "\n",
    "    receivers = pm.MagneticFluxDensityReceiver(\n",
    "        np.atleast_2d(xyz[i, :]), \n",
    "        components=[rx.component for rx in sensorinfo.receivers]\n",
    "    )\n",
    "    src = pm.MagneticControlledSource(\n",
    "        receiver_list=[receivers], location=tx_corners, current=1\n",
    "    )\n",
    "    src_list.append(src)"
   ]
  },
  {
   "cell_type": "code",
   "execution_count": 147,
   "id": "9247ae4b-a3e1-4df0-8865-fa1d430a89e9",
   "metadata": {
    "iooxa": {
     "id": {
      "block": "coheOPKbXq5uPAgCSAA5",
      "project": "2XV1umLvMDaNbxUWfsZc",
      "version": 1
     },
     "outputId": null
    }
   },
   "outputs": [],
   "source": [
    "survey = pm.Survey(src_list)"
   ]
  },
  {
   "cell_type": "code",
   "execution_count": 148,
   "id": "b1f528f2-67ce-4565-beb9-5946b23f02ca",
   "metadata": {
    "iooxa": {
     "id": {
      "block": "MfJtjdXI5KyIfVTQ4hBL",
      "project": "2XV1umLvMDaNbxUWfsZc",
      "version": 1
     },
     "outputId": null
    }
   },
   "outputs": [],
   "source": [
    "sim = pm.SimulationPolarizabilityModel(locations, survey)"
   ]
  },
  {
   "cell_type": "code",
   "execution_count": 149,
   "id": "de14fd15-895e-431b-8dd1-d2af6d2619ec",
   "metadata": {
    "iooxa": {
     "id": {
      "block": "O6m8mCNAbD2qicgkZOej",
      "project": "2XV1umLvMDaNbxUWfsZc",
      "version": 1
     },
     "outputId": null
    }
   },
   "outputs": [],
   "source": [
    "mtrue = np.zeros_like(locations)\n",
    "\n",
    "x_target = np.r_[-0.25, 0.25]/2\n",
    "y_target = np.r_[-0.125, 0.125]/2\n",
    "m_target = np.r_[1, 1, 1]\n",
    "\n",
    "bounding_box = (\n",
    "    (locations[:, 0] > x_target.min()) &\n",
    "    (locations[:, 0] < x_target.max()) &\n",
    "    (locations[:, 1] > y_target.min()) &\n",
    "    (locations[:, 1] < y_target.max()) \n",
    ")\n",
    "for i, m in enumerate(m_target): \n",
    "    mtrue[bounding_box, i] = m\n",
    "\n",
    "mtrue = mtrue.flatten() #discretize.utils.mkvc(mtrue)"
   ]
  },
  {
   "cell_type": "code",
   "execution_count": 150,
   "id": "aef60d3b-45c5-4dfc-a217-62233ea7fee7",
   "metadata": {
    "iooxa": {
     "id": {
      "block": "X2V99Qf0funu3G0Hiwml",
      "project": "2XV1umLvMDaNbxUWfsZc",
      "version": 1
     },
     "outputId": null
    }
   },
   "outputs": [],
   "source": [
    "def plot_model(model, ax=None):\n",
    "    if ax is None:\n",
    "        fig, ax = plt.subplots(1, 3, figsize=(11, 3))\n",
    "    \n",
    "    for i, label in enumerate([\"x\", \"y\", \"z\"]): \n",
    "        plt.colorbar(mesh.plot_image(model[i::3], ax=ax[i])[0], ax=ax[i])\n",
    "        ax[i].set_title(f\"$m_{label}$\")\n",
    "        ax[i].set_aspect(1)\n",
    "    plt.tight_layout()"
   ]
  },
  {
   "cell_type": "code",
   "execution_count": 151,
   "id": "50ba92e8-cadb-4fb4-8ed7-df78ce7cdc32",
   "metadata": {
    "iooxa": {
     "id": {
      "block": "C3imTRfJGUTC1yeq07Qb",
      "project": "2XV1umLvMDaNbxUWfsZc",
      "version": 1
     },
     "outputId": {
      "block": "7mrzOpQy84OqwWzt6dcb",
      "project": "2XV1umLvMDaNbxUWfsZc",
      "version": 1
     }
    }
   },
   "outputs": [
    {
     "data": {
      "image/png": "[encoded data removed]",
      "text/plain": [
       "<Figure size 792x216 with 6 Axes>"
      ]
     },
     "metadata": {
      "needs_background": "light"
     },
     "output_type": "display_data"
    }
   ],
   "source": [
    "plot_model(mtrue)"
   ]
  },
  {
   "cell_type": "code",
   "execution_count": 152,
   "id": "9a3e556d-2b79-497d-b265-5774238a9eb0",
   "metadata": {
    "iooxa": {
     "id": {
      "block": "AweVNYQ2RsJzKB4ynErv",
      "project": "2XV1umLvMDaNbxUWfsZc",
      "version": 1
     },
     "outputId": null
    }
   },
   "outputs": [],
   "source": [
    "dtrue = sim.dpred(mtrue.flatten())\n",
    "# data_true = simpeg.Data(survey, dtrue)"
   ]
  },
  {
   "cell_type": "code",
   "execution_count": 153,
   "id": "3f23a613-b7a4-4284-9cce-8dd18b4caf0b",
   "metadata": {
    "iooxa": {
     "id": {
      "block": "CqJnpysmCCUKB5y3AHUO",
      "project": "2XV1umLvMDaNbxUWfsZc",
      "version": 1
     },
     "outputId": null
    }
   },
   "outputs": [],
   "source": [
    "# plot the data\n",
    "\n",
    "def plot_data(dplot, ax=None): \n",
    "    if ax is None: \n",
    "        fig, ax = plt.subplots(1, 3, figsize=(12, 3.5))\n",
    "\n",
    "    contour_opts = {\n",
    "        \"cmap\": \"Spectral_r\"\n",
    "    }\n",
    "    n_interpolate = 40\n",
    "\n",
    "    for j, comp in enumerate(src.receiver_list[0].components): \n",
    "        dij = dplot[j::3]\n",
    "        if np.any(dij): \n",
    "            contour_opts[\"vmin\"] = -1*np.max(np.abs(dij))\n",
    "            contour_opts[\"vmax\"] = np.max(np.abs(dij))\n",
    "            plt.colorbar(\n",
    "                simpeg.utils.plot2Ddata(\n",
    "                    xyz[:,:2], dij, ax=ax[j], \n",
    "                    contourOpts=contour_opts, nx=n_interpolate, ny=n_interpolate\n",
    "                )[0], \n",
    "                ax=ax[j]\n",
    "            )\n",
    "        ax[j].set_title(f\"rx: {comp}\")\n",
    "        ax[j].set_aspect(1)\n",
    "    plt.tight_layout()\n",
    "    return ax"
   ]
  },
  {
   "cell_type": "code",
   "execution_count": 154,
   "id": "280a5144-0991-4fad-970b-02f662c467c1",
   "metadata": {
    "iooxa": {
     "id": {
      "block": "09TPlgxwSfBEHluGvglb",
      "project": "2XV1umLvMDaNbxUWfsZc",
      "version": 1
     },
     "outputId": {
      "block": "1GVBpKZ5RGQMUqpBl9MP",
      "project": "2XV1umLvMDaNbxUWfsZc",
      "version": 1
     }
    }
   },
   "outputs": [
    {
     "data": {
      "image/png": "[encoded data removed]",
      "text/plain": [
       "<Figure size 864x252 with 6 Axes>"
      ]
     },
     "metadata": {
      "needs_background": "light"
     },
     "output_type": "display_data"
    }
   ],
   "source": [
    "plot_data(dtrue);"
   ]
  },
  {
   "cell_type": "markdown",
   "id": "523485f5-3eb6-4a85-95d1-01ae053a5e36",
   "metadata": {
    "iooxa": {
     "id": {
      "block": "AhMwX6d1lGbWzK7xpxzO",
      "project": "2XV1umLvMDaNbxUWfsZc",
      "version": 1
     }
    }
   },
   "source": [
    "# try a simple inversion"
   ]
  },
  {
   "cell_type": "code",
   "execution_count": 123,
   "id": "9a31dab7-c627-4403-b802-369d03d8c7cf",
   "metadata": {
    "iooxa": {
     "id": {
      "block": "F8d7EqEh5hmFqsbNGjo0",
      "project": "2XV1umLvMDaNbxUWfsZc",
      "version": 1
     },
     "outputId": null
    }
   },
   "outputs": [],
   "source": [
    "locations = np.hstack([mesh.gridCC, 0*np.ones((mesh.nC, 1))])\n",
    "sim = pm.SimulationPolarizabilityModel(locations, survey)"
   ]
  },
  {
   "cell_type": "code",
   "execution_count": 124,
   "id": "b4216b0f-6af2-4b15-83c9-e8437e530fc5",
   "metadata": {
    "iooxa": {
     "id": {
      "block": "0KY0mqxl9WAQ3AhiSPgY",
      "project": "2XV1umLvMDaNbxUWfsZc",
      "version": 1
     },
     "outputId": null
    }
   },
   "outputs": [],
   "source": [
    "noise_floor = 0.01 * np.max(np.abs(noise_floor))\n",
    "inversion_test = pm.Inversion(sim, dtrue, noise_floor, beta=None)"
   ]
  },
  {
   "cell_type": "code",
   "execution_count": 125,
   "id": "4cc96971-6d1d-41c0-a570-8580ff60da76",
   "metadata": {
    "iooxa": {
     "id": {
      "block": "EfUtWcNAdk6bBhS8DsOs",
      "project": "2XV1umLvMDaNbxUWfsZc",
      "version": 1
     },
     "outputId": {
      "block": "6rM79kOfRF2qXkYLS6Ni",
      "project": "2XV1umLvMDaNbxUWfsZc",
      "version": 1
     }
    }
   },
   "outputs": [
    {
     "name": "stdout",
     "output_type": "stream",
     "text": [
      "CPU times: user 39.5 s, sys: 4.15 s, total: 43.6 s\n",
      "Wall time: 17.1 s\n"
     ]
    }
   ],
   "source": [
    "%%time\n",
    "mrec0 = inversion_test.solve(beta_fact=1)"
   ]
  },
  {
   "cell_type": "code",
   "execution_count": 126,
   "id": "2f5017be-f109-4143-ae93-75697ba98ace",
   "metadata": {
    "iooxa": {
     "id": {
      "block": "Z4Pg6xglHp80MmDEDHhP",
      "project": "2XV1umLvMDaNbxUWfsZc",
      "version": 1
     },
     "outputId": {
      "block": "vLw0cGD0ksrR2eerAPjQ",
      "project": "2XV1umLvMDaNbxUWfsZc",
      "version": 1
     }
    }
   },
   "outputs": [
    {
     "data": {
      "image/png": "[encoded data removed]",
      "text/plain": [
       "<Figure size 792x216 with 6 Axes>"
      ]
     },
     "metadata": {
      "needs_background": "light"
     },
     "output_type": "display_data"
    }
   ],
   "source": [
    "plot_model(mrec0)"
   ]
  },
  {
   "cell_type": "markdown",
   "id": "a42016ff-c8eb-412f-a733-7944f1def2d8",
   "metadata": {
    "iooxa": {
     "id": {
      "block": "vq3k92d9cZZVKuQF1csx",
      "project": "2XV1umLvMDaNbxUWfsZc",
      "version": 1
     }
    }
   },
   "source": [
    "# inversion that enforces positivity -- SimPEG"
   ]
  },
  {
   "cell_type": "code",
   "execution_count": 127,
   "id": "c6e2d585-0976-49b0-83c3-e33a89d25c9f",
   "metadata": {
    "iooxa": {
     "id": {
      "block": "6W25Q5gIlRLKWIss3HLI",
      "project": "2XV1umLvMDaNbxUWfsZc",
      "version": 1
     },
     "outputId": null
    }
   },
   "outputs": [],
   "source": [
    "from SimPEG import (\n",
    "    data_misfit, regularization, optimization, inverse_problem, inversion, directives, Data, maps\n",
    ")\n",
    "\n"
   ]
  },
  {
   "cell_type": "code",
   "execution_count": 164,
   "id": "2eedc3a9-f4ca-478d-a603-5ff763d00416",
   "metadata": {
    "iooxa": {
     "id": {
      "block": "9WbTizTxCJYY3AJIWqe0",
      "project": "2XV1umLvMDaNbxUWfsZc",
      "version": 1
     },
     "outputId": {
      "block": "GWy5lMUkOlnnVYwK4sAC",
      "project": "2XV1umLvMDaNbxUWfsZc",
      "version": 1
     }
    },
    "tags": []
   },
   "outputs": [
    {
     "name": "stdout",
     "output_type": "stream",
     "text": [
      "0.1825173776594523\n"
     ]
    }
   ],
   "source": [
    "noise_floor = 0.05 * np.max(np.abs(dtrue))\n",
    "print(noise_floor)"
   ]
  },
  {
   "cell_type": "code",
   "execution_count": 165,
   "id": "f057a47b-7ac8-42b3-b3cf-8617d8147013",
   "metadata": {
    "iooxa": {
     "id": {
      "block": "exn7G7Om5nfNDUb7qNZD",
      "project": "2XV1umLvMDaNbxUWfsZc",
      "version": 1
     },
     "outputId": null
    }
   },
   "outputs": [],
   "source": [
    "dmis = data_misfit.L2DataMisfit(\n",
    "    data=Data(survey, dobs=dtrue, noise_floor=noise_floor), simulation=sim\n",
    ")\n",
    "\n",
    "nmodel = mesh.nC*3\n",
    "map_x = maps.Projection(nP=nmodel, index=slice(0,nmodel,3))\n",
    "map_y = maps.Projection(nP=nmodel, index=slice(1,nmodel,3))\n",
    "map_z = maps.Projection(nP=nmodel, index=slice(2,nmodel,3))\n",
    "reg = (\n",
    "    regularization.SimpleSmall(mesh, mapping=map_x, mref=np.zeros(len(locations)*3)) + \n",
    "    regularization.SimpleSmall(mesh, mapping=map_y, mref=np.zeros(len(locations)*3)) + \n",
    "    regularization.SimpleSmall(mesh, mapping=map_z, mref=np.zeros(len(locations)*3))  \n",
    ")"
   ]
  },
  {
   "cell_type": "code",
   "execution_count": 166,
   "id": "1e92df96-f535-453a-b7df-f3ec1218c8a0",
   "metadata": {
    "iooxa": {
     "id": {
      "block": "W7E1sKdsZz2MkoOZzX1c",
      "project": "2XV1umLvMDaNbxUWfsZc",
      "version": 1
     },
     "outputId": null
    }
   },
   "outputs": [],
   "source": [
    "opt = optimization.ProjectedGNCG(maxIterCG=40, lower=0, maxIter=20) \n",
    "invprob = inverse_problem.BaseInvProblem(dmis, reg, opt) "
   ]
  },
  {
   "cell_type": "code",
   "execution_count": 167,
   "id": "3e07cdc8-0f91-45f7-ba9e-6975a1852ecd",
   "metadata": {
    "iooxa": {
     "id": {
      "block": "b6kF562ndojyZzN9Vxtn",
      "project": "2XV1umLvMDaNbxUWfsZc",
      "version": 1
     },
     "outputId": null
    }
   },
   "outputs": [],
   "source": [
    "directive_list = [\n",
    "    directives.BetaEstimate_ByEig(beta0_ratio=1), \n",
    "    directives.BetaSchedule(coolingFactor=2.0, coolingRate=1),\n",
    "    directives.TargetMisfit()\n",
    "]"
   ]
  },
  {
   "cell_type": "code",
   "execution_count": 168,
   "id": "bd9d4c05-06ae-4a78-8157-18e037d3f966",
   "metadata": {
    "iooxa": {
     "id": {
      "block": "OCnG4ulAsdQ3RJQnS8LQ",
      "project": "2XV1umLvMDaNbxUWfsZc",
      "version": 1
     },
     "outputId": null
    }
   },
   "outputs": [],
   "source": [
    "inv = inversion.BaseInversion(invprob, directive_list)"
   ]
  },
  {
   "cell_type": "code",
   "execution_count": 169,
   "id": "46f8e4f9-8bad-44c0-a09e-20dfa1dc1a22",
   "metadata": {
    "iooxa": {
     "id": {
      "block": "PqTL2uMnNRM6YOxcRc7k",
      "project": "2XV1umLvMDaNbxUWfsZc",
      "version": 1
     },
     "outputId": {
      "block": "3xMTb5pMT5ApxwIX5rV8",
      "project": "2XV1umLvMDaNbxUWfsZc",
      "version": 1
     }
    }
   },
   "outputs": [
    {
     "name": "stdout",
     "output_type": "stream",
     "text": [
      "\n",
      "        SimPEG.InvProblem is setting bfgsH0 to the inverse of the eval2Deriv.\n",
      "        ***Done using same Solver and solverOpts as the problem***\n",
      "model has any nan: 0\n",
      "=============================== Projected GNCG ===============================\n",
      "  #     beta     phi_d     phi_m       f      |proj(x-g)-x|  LS    Comment   \n",
      "-----------------------------------------------------------------------------\n",
      "x0 has any nan: 0\n",
      "   0  1.99e+04  4.48e+03  9.38e-38  4.48e+03    1.19e+04      0              \n",
      "   1  9.97e+03  1.52e+03  5.25e-02  2.04e+03    3.23e+03      0              \n",
      "   2  4.99e+03  8.18e+02  1.02e-01  1.33e+03    2.25e+03      0   Skip BFGS  \n",
      "------------------------- STOP! -------------------------\n",
      "1 : |fc-fOld| = 0.0000e+00 <= tolF*(1+|f0|) = 4.4784e+02\n",
      "0 : |xc-x_last| = 1.2446e-01 <= tolX*(1+|x0|) = 1.0000e-01\n",
      "0 : |proj(x-g)-x|    = 2.2521e+03 <= tolG          = 1.0000e-01\n",
      "0 : |proj(x-g)-x|    = 2.2521e+03 <= 1e3*eps       = 1.0000e-02\n",
      "0 : maxIter   =      20    <= iter          =      3\n",
      "------------------------- DONE! -------------------------\n"
     ]
    }
   ],
   "source": [
    "mrec_pos = inv.run(np.zeros(mesh.nC * 3)+1e-20)"
   ]
  },
  {
   "cell_type": "code",
   "execution_count": 170,
   "id": "fea1fe29-e726-494e-b656-60f3383f8c53",
   "metadata": {
    "iooxa": {
     "id": {
      "block": "m6WFEZtL7NKaWh0K6iAh",
      "project": "2XV1umLvMDaNbxUWfsZc",
      "version": 1
     },
     "outputId": {
      "block": "Vn2BFbv1wGlOLB3SUyHd",
      "project": "2XV1umLvMDaNbxUWfsZc",
      "version": 1
     }
    }
   },
   "outputs": [
    {
     "data": {
      "image/png": "[encoded data removed]",
      "text/plain": [
       "<Figure size 864x252 with 6 Axes>"
      ]
     },
     "metadata": {
      "needs_background": "light"
     },
     "output_type": "display_data"
    }
   ],
   "source": [
    "plot_data(invprob.dpred - dtrue);"
   ]
  },
  {
   "cell_type": "code",
   "execution_count": 171,
   "id": "5db0fb10-987e-4372-a1a5-561a6451b37e",
   "metadata": {
    "iooxa": {
     "id": {
      "block": "CtS1VUO0PYWd1m6jwVWD",
      "project": "2XV1umLvMDaNbxUWfsZc",
      "version": 1
     },
     "outputId": {
      "block": "OGcUsapatMYgVPzDWIqZ",
      "project": "2XV1umLvMDaNbxUWfsZc",
      "version": 1
     }
    }
   },
   "outputs": [
    {
     "data": {
      "image/png": "[encoded data removed]",
      "text/plain": [
       "<Figure size 792x216 with 6 Axes>"
      ]
     },
     "metadata": {
      "needs_background": "light"
     },
     "output_type": "display_data"
    }
   ],
   "source": [
    "plot_model(mrec_pos)"
   ]
  },
  {
   "cell_type": "code",
   "execution_count": null,
   "id": "76102c0e-4a30-49a6-adf8-3d1264fe056a",
   "metadata": {},
   "outputs": [],
   "source": []
  },
  {
   "cell_type": "code",
   "execution_count": null,
   "id": "561a7f6a-fbea-431d-8076-4b871bdcb49c",
   "metadata": {},
   "outputs": [],
   "source": []
  }
 ],
 "metadata": {
  "iooxa": {
   "id": {
    "block": "W1sIFZA8iEBv6jmKCk9Z",
    "project": "2XV1umLvMDaNbxUWfsZc",
    "version": 1
   }
  },
  "kernelspec": {
   "display_name": "Python 3 (ipykernel)",
   "language": "python",
   "name": "python3"
  },
  "language_info": {
   "codemirror_mode": {
    "name": "ipython",
    "version": 3
   },
   "file_extension": ".py",
   "mimetype": "text/x-python",
   "name": "python",
   "nbconvert_exporter": "python",
   "pygments_lexer": "ipython3",
   "version": "3.8.13"
  }
 },
 "nbformat": 4,
 "nbformat_minor": 5
}
