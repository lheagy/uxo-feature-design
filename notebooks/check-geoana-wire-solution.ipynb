{
 "cells": [
  {
   "cell_type": "code",
   "execution_count": 1,
   "id": "73aa369f-6234-448f-8972-067deb38b420",
   "metadata": {
    "iooxa": {
     "id": {
      "block": "yeZLQPri1UHhpJGWJQvL",
      "project": "2XV1umLvMDaNbxUWfsZc",
      "version": 1
     },
     "outputId": null
    },
    "tags": []
   },
   "outputs": [],
   "source": [
    "import numpy as np\n",
    "import matplotlib.pyplot as plt\n",
    "from discretize.utils import ndgrid\n",
    "import geoana"
   ]
  },
  {
   "cell_type": "code",
   "execution_count": 2,
   "id": "dffa5b0e-0337-4ad2-9248-1583586f6e96",
   "metadata": {
    "iooxa": {
     "id": {
      "block": "zwXmv61ApnguHM2Ub1fr",
      "project": "2XV1umLvMDaNbxUWfsZc",
      "version": 1
     },
     "outputId": null
    }
   },
   "outputs": [],
   "source": [
    "length = 0.2\n",
    "e_dipole = geoana.em.static.LineCurrentFreeSpace(\n",
    "    nodes = np.array([\n",
    "        [-length/2, 0, -1],\n",
    "        [length/2, 0, -1]\n",
    "    ]),\n",
    "    current = 1/length\n",
    ")\n",
    "e_dipole_center = e_dipole.nodes.mean(0)"
   ]
  },
  {
   "cell_type": "code",
   "execution_count": 3,
   "id": "9fdcdfd0-6291-4f87-a301-52f81b7bc89c",
   "metadata": {
    "iooxa": {
     "id": {
      "block": "aPwrGggysx15jdqoN2lA",
      "project": "2XV1umLvMDaNbxUWfsZc",
      "version": 1
     },
     "outputId": null
    }
   },
   "outputs": [],
   "source": [
    "e_dipole_harmonic = geoana.em.fdem.ElectricDipoleWholeSpace(\n",
    "    frequency=0,\n",
    "    location=e_dipole_center,\n",
    "    orientation=\"x\"\n",
    ")"
   ]
  },
  {
   "cell_type": "code",
   "execution_count": 4,
   "id": "a2838b41-b64c-4e57-8cd4-97898147ab9d",
   "metadata": {
    "iooxa": {
     "id": {
      "block": "proj9KbpyocBBgrkT8fK",
      "project": "2XV1umLvMDaNbxUWfsZc",
      "version": 1
     },
     "outputId": null
    }
   },
   "outputs": [],
   "source": [
    "# z = i mu omega\n",
    "# y = sigma + i epsilon omega\n",
    "# k^2 = mu * epsilon * omega^2 - i mu sigma omega\n",
    "k = 0 "
   ]
  },
  {
   "cell_type": "code",
   "execution_count": 5,
   "id": "2dd92eaa-d250-4c10-8900-fa6c87c6843e",
   "metadata": {
    "iooxa": {
     "id": {
      "block": "iPRq11aUnkhO7WAO5oMB",
      "project": "2XV1umLvMDaNbxUWfsZc",
      "version": 1
     },
     "outputId": null
    }
   },
   "outputs": [],
   "source": [
    "rx_locs = ndgrid([\n",
    "    np.r_[0],\n",
    "    np.linspace(-10, 10, 50),\n",
    "    np.r_[10]\n",
    "])"
   ]
  },
  {
   "cell_type": "code",
   "execution_count": 7,
   "id": "82a359a0-4cf0-49bb-86ae-be733ec71d0c",
   "metadata": {
    "iooxa": {
     "id": {
      "block": "yNev5mKaQNQmrF1cfH5Y",
      "project": "2XV1umLvMDaNbxUWfsZc",
      "version": 1
     },
     "outputId": null
    }
   },
   "outputs": [],
   "source": [
    "r_vec = rx_locs - e_dipole_center\n",
    "r = np.sqrt((r_vec**2).sum(1))\n",
    "Hy = 1 / (4*np.pi*r**3) * -r_vec[:, 2] \n",
    "Hz = 1 / (4*np.pi*r**3) * r_vec[:, 1] "
   ]
  },
  {
   "cell_type": "code",
   "execution_count": 8,
   "id": "7c169e81-dafd-4f9c-b068-c1f23ac977f3",
   "metadata": {
    "iooxa": {
     "id": {
      "block": "GkdnC4qNEZtOCSHJwr7d",
      "project": "2XV1umLvMDaNbxUWfsZc",
      "version": 1
     },
     "outputId": null
    }
   },
   "outputs": [],
   "source": [
    "geoana_soln = e_dipole.magnetic_field(rx_locs)\n",
    "geoana_harmonic = e_dipole_harmonic.magnetic_field(rx_locs)"
   ]
  },
  {
   "cell_type": "code",
   "execution_count": 9,
   "id": "c495cf65-4bba-4ae4-8707-1d5a108562e4",
   "metadata": {
    "iooxa": {
     "id": {
      "block": "X8MhGRCuH8tGHyzfFRkz",
      "project": "2XV1umLvMDaNbxUWfsZc",
      "version": 1
     },
     "outputId": {
      "block": "WMy6L6u0hMwPVGhUECMn",
      "project": "2XV1umLvMDaNbxUWfsZc",
      "version": 1
     }
    }
   },
   "outputs": [
    {
     "name": "stderr",
     "output_type": "stream",
     "text": [
      "/Users/lindseyjh/opt/miniconda3/envs/uxo/lib/python3.8/site-packages/matplotlib/cbook/__init__.py:1298: ComplexWarning: Casting complex values to real discards the imaginary part\n",
      "  return np.asarray(x, float)\n",
      "/Users/lindseyjh/opt/miniconda3/envs/uxo/lib/python3.8/site-packages/matplotlib/cbook/__init__.py:1298: ComplexWarning: Casting complex values to real discards the imaginary part\n",
      "  return np.asarray(x, float)\n"
     ]
    },
    {
     "data": {
      "text/plain": [
       "[<matplotlib.lines.Line2D at 0x7fc6ab820820>]"
      ]
     },
     "execution_count": 9,
     "metadata": {},
     "output_type": "execute_result"
    },
    {
     "data": {
      "image/png": "[encoded data removed]",
      "text/plain": [
       "<Figure size 576x288 with 2 Axes>"
      ]
     },
     "metadata": {
      "needs_background": "light"
     },
     "output_type": "display_data"
    }
   ],
   "source": [
    "fig, ax = plt.subplots(1, 2, figsize=(8, 4))\n",
    "\n",
    "ax[0].plot(rx_locs[:, 1], Hy)\n",
    "ax[0].plot(rx_locs[:, 1], geoana_soln[:, 1], \"-o\", ms=2, alpha=0.8)\n",
    "ax[0].plot(rx_locs[:, 1], geoana_harmonic[:, 1], \"-s\", ms=2, alpha=0.8)\n",
    "\n",
    "ax[1].plot(rx_locs[:, 1], Hz)\n",
    "ax[1].plot(rx_locs[:, 1], geoana_soln[:, 2], \"-o\", ms=2, alpha=0.8)\n",
    "ax[1].plot(rx_locs[:, 1], geoana_harmonic[:, 2], \"-s\", ms=2, alpha=0.8)\n"
   ]
  },
  {
   "cell_type": "code",
   "execution_count": 10,
   "id": "52689c0e-65e1-48b1-805e-8f83359ad09b",
   "metadata": {
    "iooxa": {
     "id": {
      "block": "pap2eSH9ytQ8KH8xslzG",
      "project": "2XV1umLvMDaNbxUWfsZc",
      "version": 1
     },
     "outputId": {
      "block": "hs4QFmEJIoVtMPcNX1Mh",
      "project": "2XV1umLvMDaNbxUWfsZc",
      "version": 1
     }
    }
   },
   "outputs": [
    {
     "data": {
      "text/plain": [
       "[<matplotlib.lines.Line2D at 0x7fc6ad8c4340>]"
      ]
     },
     "execution_count": 10,
     "metadata": {},
     "output_type": "execute_result"
    },
    {
     "data": {
      "image/png": "[encoded data removed]",
      "text/plain": [
       "<Figure size 576x288 with 2 Axes>"
      ]
     },
     "metadata": {
      "needs_background": "light"
     },
     "output_type": "display_data"
    }
   ],
   "source": [
    "fig, ax = plt.subplots(1, 2, figsize=(8, 4))\n",
    "\n",
    "ax[0].plot(rx_locs[:, 1], Hy-geoana_soln[:, 1])\n",
    "ax[1].plot(rx_locs[:, 1], Hz-geoana_soln[:, 2])"
   ]
  },
  {
   "cell_type": "code",
   "execution_count": null,
   "id": "dc8167a9-413d-4362-9b4e-7270ef7d0412",
   "metadata": {},
   "outputs": [],
   "source": []
  }
 ],
 "metadata": {
  "iooxa": {
   "id": {
    "block": "TRA9yVQmJNBaIhQ5N5jh",
    "project": "2XV1umLvMDaNbxUWfsZc",
    "version": 1
   }
  },
  "kernelspec": {
   "display_name": "Python 3 (ipykernel)",
   "language": "python",
   "name": "python3"
  },
  "language_info": {
   "codemirror_mode": {
    "name": "ipython",
    "version": 3
   },
   "file_extension": ".py",
   "mimetype": "text/x-python",
   "name": "python",
   "nbconvert_exporter": "python",
   "pygments_lexer": "ipython3",
   "version": "3.8.13"
  }
 },
 "nbformat": 4,
 "nbformat_minor": 5
}
